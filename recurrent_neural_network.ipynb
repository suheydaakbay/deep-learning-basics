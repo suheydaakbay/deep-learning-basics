{
 "cells": [
  {
   "cell_type": "code",
   "execution_count": 117,
   "metadata": {},
   "outputs": [],
   "source": [
    "import pandas as pd\n",
    "import os\n",
    "from sklearn import preprocessing\n",
    "from collections import deque\n",
    "import random\n",
    "import numpy as np\n",
    "import time\n",
    "import tensorflow as tf\n",
    "from tensorflow.keras.models import Sequential\n",
    "from tensorflow.keras.layers import Dense, Dropout, LSTM, BatchNormalization, LSTM\n",
    "from tensorflow.keras.callbacks import TensorBoard, ModelCheckpoint"
   ]
  },
  {
   "cell_type": "code",
   "execution_count": 118,
   "metadata": {},
   "outputs": [],
   "source": [
    "seq_len = 60\n",
    "future_period_predict = 3\n",
    "ratio_to_predict = \"LTC-USD\"\n",
    "epochs = 10\n",
    "batch_size = 64\n",
    "name = f\"{seq_len}-SEQ-{future_period_predict}-PRED-{int(time.time())}\"\n",
    "\n",
    "def classify(current, future):\n",
    "    if float(future)> float(current):\n",
    "        return 1\n",
    "    else:\n",
    "        return 0"
   ]
  },
  {
   "cell_type": "code",
   "execution_count": 119,
   "metadata": {},
   "outputs": [],
   "source": [
    "def preprocess_df(df):\n",
    "    df =df.drop('future', 1)\n",
    "    for col in df.columns:\n",
    "        if col != \"target\":\n",
    "            df[col] = df[col].pct_change()\n",
    "            df.dropna(inplace=True)\n",
    "            df[col]=preprocessing.scale(df[col].values)\n",
    "\n",
    "    df.dropna(inplace=True)\n",
    "\n",
    "    sequential_data = []\n",
    "    prev_days = deque(maxlen = seq_len) \n",
    "    print(df.head())\n",
    "\n",
    "    for i in df.values:\n",
    "        prev_days.append([n for n in i[:-1]])\n",
    "        if len(prev_days) == seq_len:\n",
    "            sequential_data.append([np.array(prev_days), i[-1]])\n",
    "    random.shuffle(sequential_data)\n",
    "\n",
    "    buys = []\n",
    "    sells = []\n",
    "\n",
    "    for seq, target in sequential_data:\n",
    "        if target == 0:\n",
    "            sells.append([seq, target])\n",
    "        elif target == 1:\n",
    "            buys.append([seq, target])\n",
    "\n",
    "    random.shuffle(buys)\n",
    "    random.shuffle(sells)\n",
    "\n",
    "    lower = min(len(buys), len(sells))\n",
    "    buys = buys[:lower]\n",
    "    sells = sells[:lower]\n",
    "\n",
    "    sequential_data = buys + sells\n",
    "    random.shuffle(sequential_data)\n",
    "\n",
    "    X = []\n",
    "    y = []\n",
    "\n",
    "    for seq, target in sequential_data:\n",
    "        X.append(seq)\n",
    "        y.append(target)\n",
    "\n",
    "    return np.array(X), np.array(y)\n"
   ]
  },
  {
   "cell_type": "code",
   "execution_count": 120,
   "metadata": {},
   "outputs": [
    {
     "name": "stdout",
     "output_type": "stream",
     "text": [
      "<bound method NDFrame.head of             BTC-USD_close  BTC-USD_volume  LTC-USD_close  LTC-USD_volume  \\\n",
      "time                                                                       \n",
      "1528968660    6489.549805        0.587100      96.580002        9.647200   \n",
      "1528968720    6487.379883        7.706374      96.660004      314.387024   \n",
      "1528968780    6479.410156        3.088252      96.570000       77.129799   \n",
      "1528968840    6479.410156        1.404100      96.500000        7.216067   \n",
      "1528968900    6479.979980        0.753000      96.389999      524.539978   \n",
      "...                   ...             ...            ...             ...   \n",
      "1535214960    6713.140137        0.769891      58.020000        6.434783   \n",
      "1535215020    6714.520020        1.002652      58.009998        7.301921   \n",
      "1535215080    6714.520020        1.021925      58.020000       23.802017   \n",
      "1535215140    6715.000000        3.645508      58.020000        6.953497   \n",
      "1535215200    6715.000000        0.513560      58.080002      202.403183   \n",
      "\n",
      "            ETH-USD_close  ETH-USD_volume  BCH-USD_close  BCH-USD_volume  \n",
      "time                                                                      \n",
      "1528968660            NaN             NaN     871.719971        5.675361  \n",
      "1528968720     486.010010       26.019083     870.859985       26.856577  \n",
      "1528968780     486.000000        8.449400     870.099976        1.124300  \n",
      "1528968840     485.750000       26.994646     870.789978        1.749862  \n",
      "1528968900     486.000000       77.355759     870.000000        1.680500  \n",
      "...                   ...             ...            ...             ...  \n",
      "1535214960     279.359985       11.280577     531.479980        1.208560  \n",
      "1535215020     279.359985        8.790519     531.479980        0.016868  \n",
      "1535215080     279.369995        1.311763     531.469971        0.013854  \n",
      "1535215140     279.660004       11.752819     531.479980        0.016900  \n",
      "1535215200     279.649994        8.351710     531.479980        0.299520  \n",
      "\n",
      "[97724 rows x 8 columns]>\n"
     ]
    }
   ],
   "source": [
    "main_df = pd.DataFrame()\n",
    "\n",
    "ratios = [\"BTC-USD\", \"LTC-USD\", \"ETH-USD\", \"BCH-USD\"]\n",
    "for ratio in ratios:\n",
    "    dataset = f\"crypto_data/{ratio}.csv\"\n",
    "\n",
    "    df = pd.read_csv(dataset, names = [\"time\", \"low\", \"high\", \"open\", \"close\", \"volume\"])\n",
    "    #print(df.head())\n",
    "    df.rename( columns = {\"close\": f\"{ratio}_close\", \"volume\": f\"{ratio}_volume\"}, inplace=True)\n",
    "\n",
    "    df.set_index(\"time\", inplace= True)\n",
    "    df = df[[f\"{ratio}_close\", f\"{ratio}_volume\"]]\n",
    "    #print(df.head())\n",
    "\n",
    "    if len(main_df) == 0:\n",
    "        main_df = df\n",
    "    else:\n",
    "        main_df = main_df.join(df)\n",
    "print(main_df.head)\n"
   ]
  },
  {
   "cell_type": "code",
   "execution_count": 121,
   "metadata": {},
   "outputs": [
    {
     "name": "stdout",
     "output_type": "stream",
     "text": [
      "            LTC-USD_close     future\n",
      "time                                \n",
      "1528968660      96.580002  96.500000\n",
      "1528968720      96.660004  96.389999\n",
      "1528968780      96.570000  96.519997\n",
      "1528968840      96.500000  96.440002\n",
      "1528968900      96.389999  96.470001\n"
     ]
    }
   ],
   "source": [
    "main_df[\"future\"] = main_df[f\"{ratio_to_predict}_close\"].shift(-future_period_predict)\n",
    "print(main_df[[f\"{ratio_to_predict}_close\", \"future\"]].head())"
   ]
  },
  {
   "cell_type": "code",
   "execution_count": 122,
   "metadata": {},
   "outputs": [
    {
     "name": "stdout",
     "output_type": "stream",
     "text": [
      "            LTC-USD_close     future  target\n",
      "time                                        \n",
      "1528968660      96.580002  96.500000       0\n",
      "1528968720      96.660004  96.389999       0\n",
      "1528968780      96.570000  96.519997       0\n",
      "1528968840      96.500000  96.440002       0\n",
      "1528968900      96.389999  96.470001       1\n",
      "1528968960      96.519997  96.400002       0\n",
      "1528969020      96.440002  96.400002       0\n",
      "1528969080      96.470001  96.400002       0\n",
      "1528969140      96.400002  96.400002       0\n",
      "1528969200      96.400002  96.400002       0\n"
     ]
    }
   ],
   "source": [
    "main_df['target'] = list(map(classify, main_df[f\"{ratio_to_predict}_close\"], main_df[\"future\"]))\n",
    "print(main_df[[f\"{ratio_to_predict}_close\", \"future\", \"target\"]].head(10))"
   ]
  },
  {
   "cell_type": "code",
   "execution_count": 123,
   "metadata": {},
   "outputs": [],
   "source": [
    "times = sorted(main_df.index.values)\n",
    "last_5pct = times[-int(0.05*len(times))]\n",
    "\n",
    "validation_main_df = main_df[(main_df.index >= last_5pct)]\n",
    "main_df = main_df[(main_df.index < last_5pct)]"
   ]
  },
  {
   "cell_type": "code",
   "execution_count": 124,
   "metadata": {},
   "outputs": [
    {
     "name": "stdout",
     "output_type": "stream",
     "text": [
      "            BTC-USD_close  BTC-USD_volume  LTC-USD_close  LTC-USD_volume  \\\n",
      "time                                                                       \n",
      "1528969140      -0.002513       -0.078919      -0.540429       -0.117090   \n",
      "1528969200      -0.229992        0.003410       0.004048       -0.118307   \n",
      "1528969260      -0.000830       -0.074039       0.004048       -0.072997   \n",
      "1528969320       0.116299       -0.049626       0.004048       -0.108241   \n",
      "1528969380       0.000937       -0.082052       0.004048       -0.048516   \n",
      "\n",
      "            ETH-USD_close  ETH-USD_volume  BCH-USD_close  BCH-USD_volume  \\\n",
      "time                                                                       \n",
      "1528969140       0.004601       -0.047838       0.011062       -0.006217   \n",
      "1528969200       0.004601       -0.045377       0.257552       -0.005884   \n",
      "1528969260       0.021273       -0.032900       0.265415       -0.006200   \n",
      "1528969320       0.004601       -0.049530       0.455951       -0.005898   \n",
      "1528969380       0.004601       -0.032916       0.527186       -0.006206   \n",
      "\n",
      "            target  \n",
      "time                \n",
      "1528969140       0  \n",
      "1528969200       0  \n",
      "1528969260       1  \n",
      "1528969320       1  \n",
      "1528969380       0  \n"
     ]
    },
    {
     "name": "stderr",
     "output_type": "stream",
     "text": [
      "/var/folders/1z/4vxcctj13w70p7lpfdqll_hw0000gn/T/ipykernel_49942/3046434640.py:2: FutureWarning: In a future version of pandas all arguments of DataFrame.drop except for the argument 'labels' will be keyword-only.\n",
      "  df =df.drop('future', 1)\n",
      "/var/folders/1z/4vxcctj13w70p7lpfdqll_hw0000gn/T/ipykernel_49942/3046434640.py:2: FutureWarning: In a future version of pandas all arguments of DataFrame.drop except for the argument 'labels' will be keyword-only.\n",
      "  df =df.drop('future', 1)\n"
     ]
    },
    {
     "name": "stdout",
     "output_type": "stream",
     "text": [
      "            BTC-USD_close  BTC-USD_volume  LTC-USD_close  LTC-USD_volume  \\\n",
      "time                                                                       \n",
      "1528969140      -0.002513       -0.078919      -0.540429       -0.117090   \n",
      "1528969200      -0.229992        0.003410       0.004048       -0.118307   \n",
      "1528969260      -0.000830       -0.074039       0.004048       -0.072997   \n",
      "1528969320       0.116299       -0.049626       0.004048       -0.108241   \n",
      "1528969380       0.000937       -0.082052       0.004048       -0.048516   \n",
      "\n",
      "            ETH-USD_close  ETH-USD_volume  BCH-USD_close  BCH-USD_volume  \\\n",
      "time                                                                       \n",
      "1528969140       0.004601       -0.047838       0.011062       -0.006217   \n",
      "1528969200       0.004601       -0.045377       0.257552       -0.005884   \n",
      "1528969260       0.021273       -0.032900       0.265415       -0.006200   \n",
      "1528969320       0.004601       -0.049530       0.455951       -0.005898   \n",
      "1528969380       0.004601       -0.032916       0.527186       -0.006206   \n",
      "\n",
      "            target  \n",
      "time                \n",
      "1528969140       0  \n",
      "1528969200       0  \n",
      "1528969260       1  \n",
      "1528969320       1  \n",
      "1528969380       0  \n"
     ]
    }
   ],
   "source": [
    "#preprocess_df(main_df)\n",
    "train_x, train_y = preprocess_df(main_df)\n",
    "validation_x, validation_y = preprocess_df(main_df)"
   ]
  },
  {
   "cell_type": "code",
   "execution_count": 127,
   "metadata": {},
   "outputs": [
    {
     "name": "stderr",
     "output_type": "stream",
     "text": [
      "2022-02-04 12:47:57.542584: W tensorflow/core/platform/profile_utils/cpu_utils.cc:128] Failed to get CPU frequency: 0 Hz\n"
     ]
    },
    {
     "name": "stdout",
     "output_type": "stream",
     "text": [
      "Epoch 1/10\n"
     ]
    },
    {
     "name": "stderr",
     "output_type": "stream",
     "text": [
      "2022-02-04 12:47:58.776055: I tensorflow/core/grappler/optimizers/custom_graph_optimizer_registry.cc:112] Plugin optimizer for device_type GPU is enabled.\n",
      "2022-02-04 12:47:59.283596: I tensorflow/core/grappler/optimizers/custom_graph_optimizer_registry.cc:112] Plugin optimizer for device_type GPU is enabled.\n",
      "2022-02-04 12:48:00.480821: I tensorflow/core/grappler/optimizers/custom_graph_optimizer_registry.cc:112] Plugin optimizer for device_type GPU is enabled.\n",
      "2022-02-04 12:48:00.677762: I tensorflow/core/grappler/optimizers/custom_graph_optimizer_registry.cc:112] Plugin optimizer for device_type GPU is enabled.\n",
      "2022-02-04 12:48:02.733147: I tensorflow/core/grappler/optimizers/custom_graph_optimizer_registry.cc:112] Plugin optimizer for device_type GPU is enabled.\n",
      "2022-02-04 12:48:04.089366: I tensorflow/core/grappler/optimizers/custom_graph_optimizer_registry.cc:112] Plugin optimizer for device_type GPU is enabled.\n",
      "2022-02-04 12:48:04.260958: I tensorflow/core/grappler/optimizers/custom_graph_optimizer_registry.cc:112] Plugin optimizer for device_type GPU is enabled.\n"
     ]
    },
    {
     "name": "stdout",
     "output_type": "stream",
     "text": [
      "1082/1082 [==============================] - ETA: 0s - loss: 0.7151 - accuracy: 0.5261"
     ]
    },
    {
     "name": "stderr",
     "output_type": "stream",
     "text": [
      "2022-02-04 12:49:27.119610: I tensorflow/core/grappler/optimizers/custom_graph_optimizer_registry.cc:112] Plugin optimizer for device_type GPU is enabled.\n",
      "2022-02-04 12:49:27.273015: I tensorflow/core/grappler/optimizers/custom_graph_optimizer_registry.cc:112] Plugin optimizer for device_type GPU is enabled.\n",
      "2022-02-04 12:49:27.381399: I tensorflow/core/grappler/optimizers/custom_graph_optimizer_registry.cc:112] Plugin optimizer for device_type GPU is enabled.\n",
      "2022-02-04 12:49:27.486664: I tensorflow/core/grappler/optimizers/custom_graph_optimizer_registry.cc:112] Plugin optimizer for device_type GPU is enabled.\n"
     ]
    },
    {
     "name": "stdout",
     "output_type": "stream",
     "text": [
      "1082/1082 [==============================] - 120s 105ms/step - loss: 0.7151 - accuracy: 0.5261 - val_loss: 0.6888 - val_accuracy: 0.5397\n",
      "Epoch 2/10\n",
      "1082/1082 [==============================] - 110s 102ms/step - loss: 0.6904 - accuracy: 0.5347 - val_loss: 0.6861 - val_accuracy: 0.5486\n",
      "Epoch 3/10\n",
      "1082/1082 [==============================] - 113s 104ms/step - loss: 0.6903 - accuracy: 0.5310 - val_loss: 0.6936 - val_accuracy: 0.5025\n",
      "Epoch 4/10\n",
      "1082/1082 [==============================] - 113s 105ms/step - loss: 0.6934 - accuracy: 0.5056 - val_loss: 0.6927 - val_accuracy: 0.5185\n",
      "Epoch 5/10\n",
      "1082/1082 [==============================] - 113s 105ms/step - loss: 0.6934 - accuracy: 0.5025 - val_loss: 0.6931 - val_accuracy: 0.5057\n",
      "Epoch 6/10\n",
      "1082/1082 [==============================] - 115s 107ms/step - loss: 0.6933 - accuracy: 0.5047 - val_loss: 0.6933 - val_accuracy: 0.5025\n",
      "Epoch 7/10\n",
      "1082/1082 [==============================] - 115s 107ms/step - loss: 0.6933 - accuracy: 0.5042 - val_loss: 0.6938 - val_accuracy: 0.5000\n",
      "Epoch 8/10\n",
      "1082/1082 [==============================] - 114s 105ms/step - loss: 0.6934 - accuracy: 0.4989 - val_loss: 0.6931 - val_accuracy: 0.4999\n",
      "Epoch 9/10\n",
      "1082/1082 [==============================] - 115s 106ms/step - loss: 0.6932 - accuracy: 0.5023 - val_loss: 0.6931 - val_accuracy: 0.4983\n",
      "Epoch 10/10\n",
      "1082/1082 [==============================] - 114s 106ms/step - loss: 0.6933 - accuracy: 0.5025 - val_loss: 0.6931 - val_accuracy: 0.5000\n"
     ]
    },
    {
     "data": {
      "text/plain": [
       "<keras.callbacks.History at 0x17caba6d0>"
      ]
     },
     "execution_count": 127,
     "metadata": {},
     "output_type": "execute_result"
    }
   ],
   "source": [
    "model = Sequential()\n",
    "model.add(LSTM(128, input_shape = (train_x.shape[1:]), return_sequences = True))\n",
    "model.add(Dropout(0.2))\n",
    "model.add(BatchNormalization())\n",
    "\n",
    "model.add(LSTM(128, input_shape = (train_x.shape[1:]), return_sequences = True))\n",
    "model.add(Dropout(0.1))\n",
    "model.add(BatchNormalization())\n",
    "\n",
    "model.add(LSTM(128, input_shape = (train_x.shape[1:])))\n",
    "model.add(Dropout(0.2))\n",
    "model.add(BatchNormalization())\n",
    "\n",
    "model.add(Dense(32, activation = \"relu\"))\n",
    "model.add(Dropout(0.2))\n",
    "\n",
    "model.add(Dense(2, activation = \"softmax\"))\n",
    "\n",
    "model.compile(loss='sparse_categorical_crossentropy', optimizer = \"adam\", metrics = [\"accuracy\"])\n",
    "\n",
    "model.fit(train_x, train_y, batch_size = batch_size, epochs = epochs, validation_data = (validation_x, validation_y))\n"
   ]
  }
 ],
 "metadata": {
  "interpreter": {
   "hash": "afce9d8238868e7dbddb08ba7cd9c979a631a32f2af84a27beda10d3ce46420d"
  },
  "kernelspec": {
   "display_name": "Python 3.9.7 64-bit ('base': conda)",
   "language": "python",
   "name": "python3"
  },
  "language_info": {
   "codemirror_mode": {
    "name": "ipython",
    "version": 3
   },
   "file_extension": ".py",
   "mimetype": "text/x-python",
   "name": "python",
   "nbconvert_exporter": "python",
   "pygments_lexer": "ipython3",
   "version": "3.9.7"
  },
  "orig_nbformat": 4
 },
 "nbformat": 4,
 "nbformat_minor": 2
}
